{
 "cells": [
  {
   "cell_type": "raw",
   "id": "62fb8996",
   "metadata": {},
   "source": [
    "Q.1 Solve the problem statement :\n",
    "If n is odd, print Weird\n",
    "If n is even and in the inclusive range of 2 to 5, print Not Weird\n",
    "If n is even and in the inclusive range of 6 to 20, print Weird\n",
    "If n is even and greater than 20, print Not Weird"
   ]
  },
  {
   "cell_type": "code",
   "execution_count": 22,
   "id": "98377448",
   "metadata": {},
   "outputs": [
    {
     "name": "stdout",
     "output_type": "stream",
     "text": [
      "Enter The Number ->24\n",
      "Not Weird\n"
     ]
    }
   ],
   "source": [
    "num = int(input(\"Enter The Number ->\"))\n",
    "if (num % 2 != 0):\n",
    "    print(\"Weird\")\n",
    "elif (num % 2 == 0) and (num>=2 and num<=5):\n",
    "        "
   ]
  },
  {
   "cell_type": "raw",
   "id": "170b3904",
   "metadata": {},
   "source": [
    "Q.2  The included code stub will read an integer, n, from STDIN. Without using any string methods, try to print the following: 123……..n\n",
    "Note that \"...\" represents the consecutive values in between.\n",
    "Example\n",
    "n = 5\n",
    "\n",
    "Print the string 12345 "
   ]
  },
  {
   "cell_type": "code",
   "execution_count": 27,
   "id": "b56e0ec4",
   "metadata": {},
   "outputs": [
    {
     "name": "stdout",
     "output_type": "stream",
     "text": [
      "Enter the value of n ->6\n",
      "123456"
     ]
    }
   ],
   "source": [
    "num = int(input(\"Enter the value of n ->\"))\n",
    "for i in range ( 1 , num + 1 ):\n",
    "    print(i , end='')\n",
    "    "
   ]
  },
  {
   "cell_type": "raw",
   "id": "7a3fac77",
   "metadata": {},
   "source": [
    "Q.3 Task\n",
    "Let’s learn about list comprehension! You are given three integers x, y, and z representing the dimensions of a cuboid along with an integer n. Print a list of all possible coordinates given by (i, j, k) on a 3D grid where the sum of i + j + k is not equal to n. Here, 0 <= i <= x; 0 <= j <= y; 0 <= k <= z. Please use list comprehensions rather than multiple loops, as a learning exercise.\n",
    "\n",
    "Example x = 1 y = 1 z = 2 n = 3\n",
    "\n",
    "All permutations of [i, j, k] are: [[0, 0, 0], [0, 0, 1], [0, 0, 2], [0, 1, 0], [0, 1, 1], [0, 1, 2], [1, 0, 0], [1, 0, 1], [1, 0, 2], [1, 1, 0], [1, 1, 1], [1, 1, 2]]. Print an array of the elements that do not sum to n = 3. [[0, 0, 0], [0, 0, 1], [0, 0, 2], [0, 1, 0], [0, 1, 1], [1, 0, 0], [1, 0, 1], [1, 1, 0], [1, 1, 2]] Input Format Four integers x, y, z and n, each on a separate line.\n",
    "\n",
    "Constraints Print the list in lexicographic increasing order."
   ]
  },
  {
   "cell_type": "code",
   "execution_count": 33,
   "id": "2ba920e8",
   "metadata": {},
   "outputs": [
    {
     "name": "stdout",
     "output_type": "stream",
     "text": [
      "Enter the value of x integer -> 1\n",
      "Enter the value of y integer -> 1\n",
      "Enter the value of z integer -> 2\n",
      "Enter the value of n integer -> 3\n",
      "All permutations of [i, j, k] are:  [[0, 0, 0], [0, 0, 1], [0, 0, 2], [0, 1, 0], [0, 1, 1], [0, 1, 2], [1, 0, 0], [1, 0, 1], [1, 0, 2], [1, 1, 0], [1, 1, 1], [1, 1, 2]]\n",
      "\n",
      "Print an array of the elements that do not sum to n = 3:  [[0, 0, 0], [0, 0, 1], [0, 0, 2], [0, 1, 0], [0, 1, 1], [1, 0, 0], [1, 0, 1], [1, 1, 0], [1, 1, 2]]\n"
     ]
    }
   ],
   "source": [
    "x = int(input(\"Enter the value of x integer -> \"))\n",
    "y = int(input(\"Enter the value of y integer -> \"))\n",
    "z = int(input(\"Enter the value of z integer -> \"))\n",
    "n = int(input(\"Enter the value of n integer -> \"))\n",
    "\n",
    "coordinates = [[i , j , k ] for i in range (x + 1) for j in range (y + 1) for k in range (z + 1)]\n",
    "print(\"All permutations of [i, j, k] are: \",coordinates)\n",
    "print()\n",
    "coordinates1 = [[i , j , k ] for i in range (x + 1) for j in range (y + 1) for k in range (z + 1) if (i + j + k) !=n]\n",
    "print(\"Print an array of the elements that do not sum to n = 3: \",coordinates1)"
   ]
  },
  {
   "cell_type": "raw",
   "id": "0600af2e",
   "metadata": {},
   "source": [
    "Q.4 Task\n",
    "Given the participants’ score sheet for your University Sports Day, you must find the runner-up score. You are given n scores. Store them in a list and find the score of the runner-up.\n",
    "\n",
    "Input Format The first line contains n. The second line contains an array A[] of n integers are each separated by a space. Constraints 2 ≤ n ≤ 10 -100 ≤ A[i] ≤ 100\n",
    "\n",
    "Output Format Print the runner-up score.\n",
    "\n",
    "Sample Input 0 5\n",
    "\n",
    "2 3 6 6 5 Sample Output 0 5\n",
    "\n",
    "Explanation 0 The given list is [2, 3, 6, 6, 5]. The maximum score is 6, the second maximum score is 5. Hence, we print 5 as the runner-up score."
   ]
  },
  {
   "cell_type": "code",
   "execution_count": 41,
   "id": "61e36918",
   "metadata": {},
   "outputs": [
    {
     "name": "stdout",
     "output_type": "stream",
     "text": [
      "Enter the number of participants -> 5\n",
      "2 3 6 6 5\n",
      "The Runner_up Score -> 5\n"
     ]
    }
   ],
   "source": [
    "n = int(input(\"Enter the number of participants -> \"))\n",
    "\n",
    "scores = list(map(int, input().split()))\n",
    "scores.sort(reverse=True)\n",
    "\n",
    "runner_up = None\n",
    "for score in scores:\n",
    "    if score < max(scores):\n",
    "        runner_up = score\n",
    "        break\n",
    "print(\"The Runner_up Score ->\",runner_up)"
   ]
  },
  {
   "cell_type": "raw",
   "id": "a2b9b851",
   "metadata": {},
   "source": [
    "Q.5 Task\n",
    "Given the names and grades for each student in a class of N students, store them in a nested list and print the name(s) of any student(s) having the second lowest grade.\n",
    "\n",
    "Note: If there are multiple students with the second lowest grade, order their names alphabetically and print each name on a new line.\n",
    "\n",
    "Example records = [[ “chi”, 20.0]], [“beta”, 50.0], [“alpha”, 50.0]\n",
    "\n",
    "The ordered list of scores is [20.0, 50.0], so the second lowest score is 50.0. There are two students with that score: [“beta”, “alpha”]. Ordered alphabetically, the names are printed as:\n",
    "\n",
    "alpha\n",
    "\n",
    "beta\n",
    "\n",
    "Input Format The first line contains an integer,n, the number of students.\n",
    "\n",
    "The 2N subsequent lines describe each student over lines.\n",
    "\n",
    "The first line contains a student’s name. The second line contains their grade. Constraints\n",
    "\n",
    "2 <= N <= 5 There will always be one or more students having the second lowest grade.\n",
    "\n",
    "Output Format Print the name(s) of any student(s) having the second lowest grade in. If there are multiple students, order their names alphabetically and print each one on a new line.\n",
    "\n",
    "Sample Input 0 5 Harry 37.21 Berry 37.21 Tina 37.2 Akriti 41 Harsh 39\n",
    "\n",
    "Sample Output 0 Berry\n",
    "\n",
    "Harry"
   ]
  },
  {
   "cell_type": "code",
   "execution_count": 42,
   "id": "8b303e96",
   "metadata": {},
   "outputs": [
    {
     "name": "stdout",
     "output_type": "stream",
     "text": [
      "Enter the number of students: 5\n",
      "Enter the student's name: Harr\n",
      "Enter the student's grade: 37.21\n",
      "Enter the student's name: Berry\n",
      "Enter the student's grade: 37.21\n",
      "Enter the student's name: Tina\n",
      "Enter the student's grade: 37.2\n",
      "Enter the student's name: Akrity\n",
      "Enter the student's grade: 41\n",
      "Enter the student's name: Harsh\n",
      "Enter the student's grade: 39\n",
      "Students with the second lowest grade:\n",
      "Harr\n",
      "Berry\n"
     ]
    }
   ],
   "source": [
    "N = int(input(\"Enter the number of students: \"))\n",
    "students = []\n",
    "\n",
    "for _ in range(N):\n",
    "    name = input(\"Enter the student's name: \")\n",
    "    score = float(input(\"Enter the student's grade: \"))\n",
    "    students.append([name, score])\n",
    "\n",
    "# Sort students based on grades\n",
    "students.sort(key=lambda x: x[1])\n",
    "\n",
    "# Find the second lowest grade\n",
    "second_lowest_grade = sorted(set([score for name, score in students]))[1]\n",
    "\n",
    "# Print names of students with the second lowest grade\n",
    "second_lowest_students = [name for name, score in students if score == second_lowest_grade]\n",
    "print(\"Students with the second lowest grade:\")\n",
    "for student in second_lowest_students:\n",
    "    print(student)"
   ]
  }
 ],
 "metadata": {
  "kernelspec": {
   "display_name": "Python 3 (ipykernel)",
   "language": "python",
   "name": "python3"
  },
  "language_info": {
   "codemirror_mode": {
    "name": "ipython",
    "version": 3
   },
   "file_extension": ".py",
   "mimetype": "text/x-python",
   "name": "python",
   "nbconvert_exporter": "python",
   "pygments_lexer": "ipython3",
   "version": "3.11.5"
  }
 },
 "nbformat": 4,
 "nbformat_minor": 5
}
